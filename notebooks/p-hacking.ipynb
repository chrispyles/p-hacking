{
 "cells": [
  {
   "cell_type": "markdown",
   "metadata": {},
   "source": [
    "# P-Hacking\n",
    "\n",
    "The term \"p-hacking\" refers to the process by which less-than-honorable researchers manipulate their data until they get a \"statistically significant\" result. A result is statistically significant if it achieves a p-value of less than 5%, meaning that fewer than 5% of the random permuted situations experienced the same outcome as that observed in the data.\n",
    "\n",
    "---\n",
    "\n",
    "## The Situation\n",
    "\n",
    "You have been hired to determine whether or not there is a link between how a state voted in the 2016 presidential election and some other outcomes related to hate crimes. You decide to run an A/B Test on your variable of interest to determine whether or not the two groups come from the same underlying distribution.\n",
    "\n",
    "See if you can get a significant result below by toying with the test parameters."
   ]
  },
  {
   "cell_type": "code",
   "execution_count": 111,
   "metadata": {},
   "outputs": [],
   "source": [
    "import pandas as pd\n",
    "import numpy as np\n",
    "import seaborn as sns\n",
    "import matplotlib.pyplot as plt\n",
    "%matplotlib inline\n",
    "import ipywidgets as widgets\n",
    "from IPython.display import display, HTML\n",
    "import warnings\n",
    "warnings.filterwarnings(\"ignore\")\n",
    "plt.rcParams[\"figure.figsize\"] = [15, 10]"
   ]
  },
  {
   "cell_type": "code",
   "execution_count": 100,
   "metadata": {},
   "outputs": [],
   "source": [
    "crimes = pd.read_csv(\"../data/hate-crimes.csv\")"
   ]
  },
  {
   "cell_type": "code",
   "execution_count": 101,
   "metadata": {},
   "outputs": [],
   "source": [
    "crimes[\"voted_repub\"] = crimes[\"share_voters_voted_trump\"] > .5"
   ]
  },
  {
   "cell_type": "code",
   "execution_count": 102,
   "metadata": {},
   "outputs": [],
   "source": [
    "def test_stat(df, outcome):\n",
    "    \"\"\"\n",
    "    Computes test statistic, returns length 2 array. arr[0] is STEM=False, arr[1] is STEM=True\n",
    "    \"\"\"\n",
    "    df2 = df.copy()\n",
    "    rates = df2.groupby(\"voted_repub\").mean()[outcome].values\n",
    "    return abs(rates[0] - rates[1])\n",
    "\n",
    "original = test_stat(crimes, \"hate_crimes_per_100k_splc\")"
   ]
  },
  {
   "cell_type": "code",
   "execution_count": 103,
   "metadata": {},
   "outputs": [],
   "source": [
    "def shuffle_table():\n",
    "    repub = crimes.sample(frac=1).reset_index()[\"voted_repub\"]\n",
    "    df = crimes.copy()\n",
    "    df[\"voted_repub\"] = repub\n",
    "    return df"
   ]
  },
  {
   "cell_type": "code",
   "execution_count": 104,
   "metadata": {},
   "outputs": [],
   "source": [
    "def run_ab_test_drop_na(n, outcome):\n",
    "    \"\"\"\n",
    "    Runs A/B test\n",
    "    \"\"\"\n",
    "    test_stats = []\n",
    "    for _ in range(n):\n",
    "        df = shuffle_table()\n",
    "        df.dropna(inplace=True)\n",
    "        stat = test_stat(df, outcome)\n",
    "        test_stats += [stat]\n",
    "\n",
    "    p_val = sum(np.array(test_stats) >= original) / len(test_stats)\n",
    "    return p_val"
   ]
  },
  {
   "cell_type": "code",
   "execution_count": 105,
   "metadata": {},
   "outputs": [],
   "source": [
    "def run_ab_test_fill_na_mean(n, outcome):\n",
    "    \"\"\"\n",
    "    Runs A/B test\n",
    "    \"\"\"\n",
    "    test_stats = []\n",
    "    for _ in range(n):\n",
    "        df = shuffle_table()\n",
    "        df.fillna(np.mean(df[outcome]), inplace=True)\n",
    "        stat = test_stat(df, outcome)\n",
    "        test_stats += [stat]\n",
    "\n",
    "    p_val = sum(np.array(test_stats) >= original) / len(test_stats)\n",
    "    return p_val"
   ]
  },
  {
   "cell_type": "code",
   "execution_count": 106,
   "metadata": {},
   "outputs": [],
   "source": [
    "cols = {\n",
    "    \"State\" : \"state\",\n",
    "    \"Median Household Income\" : \"median_household_income\",\n",
    "    \"Share Seasonally Unemployed\" : \"share_unemployed_seasonal\",\n",
    "    \"Share in Metro Areas\" : \"share_population_in_metro_areas\",\n",
    "    \"Share with High School Degree\" : \"share_population_with_high_school_degree\",\n",
    "    \"Share Non-Citizens\" : \"share_non_citizen\",\n",
    "    \"Share White Poverty\" : \"share_white_poverty\",\n",
    "    \"Gini Index\" : \"gini_index\",\n",
    "    \"Share Non-White\" : \"share_non_white\",\n",
    "    \"Hate Crimes - FBI\" : \"avg_hatecrimes_per_100k_fbi\",\n",
    "    \"Hate Crimes - SPLC\" : \"hate_crimes_per_100k_splc\"\n",
    "}"
   ]
  },
  {
   "cell_type": "code",
   "execution_count": 107,
   "metadata": {},
   "outputs": [],
   "source": [
    "def barplot(outcome):\n",
    "    col = cols[outcome]\n",
    "    sns.barplot(x=\"voted_repub\", y=col, data=crimes)\n",
    "    plt.xlabel(\"Red State in 2016 Election\")\n",
    "    plt.ylabel(outcome);"
   ]
  },
  {
   "cell_type": "code",
   "execution_count": 108,
   "metadata": {},
   "outputs": [],
   "source": [
    "def get_html(percent, good=True):\n",
    "    if good:\n",
    "        html = \"\"\"\n",
    "        <div style=\"font-family: sans-serif; font-size: 14pt;\">\n",
    "            <h2>Congratulations!</h2>\n",
    "            <p>Your p-value was <strong>{:.2f}%</strong>! You can publish your results!</p>\n",
    "        </div>\n",
    "        \"\"\".format(percent)\n",
    "    else:\n",
    "        html = \"\"\"\n",
    "        <div style=\"font-family: sans-serif; font-size: 14pt;\">\n",
    "            <h2>Sorry!</h2>\n",
    "            <p>Your p-value was <strong>{:.2f}%</strong>. You can't publish <em>these</em> findings!</p>\n",
    "        </div>\n",
    "        \"\"\".format(percent)\n",
    "    return html"
   ]
  },
  {
   "cell_type": "code",
   "execution_count": 109,
   "metadata": {},
   "outputs": [],
   "source": [
    "def run_test(outcome, n, fillna=False):\n",
    "    col = cols[outcome]\n",
    "    if fillna:\n",
    "        p = run_ab_test_fill_na_mean(n, col)\n",
    "    else:\n",
    "        p = run_ab_test_drop_na(n, col)\n",
    "    barplot(outcome)\n",
    "    return HTML(get_html(p * 100, p <= .05))"
   ]
  },
  {
   "cell_type": "code",
   "execution_count": 112,
   "metadata": {},
   "outputs": [
    {
     "data": {
      "application/vnd.jupyter.widget-view+json": {
       "model_id": "526d72c26edd411eb11712e8075bc4cb",
       "version_major": 2,
       "version_minor": 0
      },
      "text/plain": [
       "interactive(children=(Dropdown(description='Outcome', options=('Median Household Income', 'Share Seasonally Un…"
      ]
     },
     "metadata": {},
     "output_type": "display_data"
    }
   ],
   "source": [
    "widgets.interact(\n",
    "    run_test,\n",
    "    outcome = widgets.Dropdown(options=list(cols.keys())[1:], description=\"Outcome\"),\n",
    "    n = widgets.IntSlider(value=50, min=50, max=1000, step=50, description=\"Reshuffles\"),\n",
    "    fillna = widgets.Checkbox(value=False, description=\"Fill NA Values\")\n",
    ");"
   ]
  },
  {
   "cell_type": "markdown",
   "metadata": {},
   "source": [
    "---\n",
    "\n",
    "App designed by [Chris Pyles](https://github.com/chrispyles). Data from [FiveThirtyEight on Github](https://github.com/fivethirtyeight/data/blob/master/hate-crimes/hate_crimes.csv)."
   ]
  }
 ],
 "metadata": {
  "@webio": {
   "lastCommId": null,
   "lastKernelId": null
  },
  "kernelspec": {
   "display_name": "Python 3",
   "language": "python",
   "name": "python3"
  },
  "language_info": {
   "codemirror_mode": {
    "name": "ipython",
    "version": 3
   },
   "file_extension": ".py",
   "mimetype": "text/x-python",
   "name": "python",
   "nbconvert_exporter": "python",
   "pygments_lexer": "ipython3",
   "version": "3.6.5"
  },
  "varInspector": {
   "cols": {
    "lenName": 16,
    "lenType": 16,
    "lenVar": 40
   },
   "kernels_config": {
    "python": {
     "delete_cmd_postfix": "",
     "delete_cmd_prefix": "del ",
     "library": "var_list.py",
     "varRefreshCmd": "print(var_dic_list())"
    },
    "r": {
     "delete_cmd_postfix": ") ",
     "delete_cmd_prefix": "rm(",
     "library": "var_list.r",
     "varRefreshCmd": "cat(var_dic_list()) "
    }
   },
   "types_to_exclude": [
    "module",
    "function",
    "builtin_function_or_method",
    "instance",
    "_Feature"
   ],
   "window_display": false
  }
 },
 "nbformat": 4,
 "nbformat_minor": 2
}
